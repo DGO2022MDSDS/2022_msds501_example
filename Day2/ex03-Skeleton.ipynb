{
 "cells": [
  {
   "cell_type": "markdown",
   "id": "16f3b481-0f0b-4194-8067-2efc2ae7678a",
   "metadata": {
    "tags": []
   },
   "source": [
    "##\n",
    "The following codes have errors.\n",
    "- inputs : supposed to have only integers, but may contain strings\n",
    "- When exception happens, print an message indicating the index number of wrong data types considering the error types."
   ]
  },
  {
   "cell_type": "code",
   "execution_count": 1,
   "id": "42422721-96ad-4525-b081-847230559cef",
   "metadata": {},
   "outputs": [],
   "source": [
    "inputs = [1, 2, 3, 4, \"9\", \"10\"]"
   ]
  },
  {
   "cell_type": "code",
   "execution_count": 3,
   "id": "50a1bb14-5487-4dc6-a6f4-2bdcbb00d4fa",
   "metadata": {},
   "outputs": [
    {
     "name": "stdout",
     "output_type": "stream",
     "text": [
      "Wrong data types:\n",
      "5\n",
      "6\n"
     ]
    }
   ],
   "source": [
    "try:\n",
    "    print(sum(inputs))\n",
    "except TypeError:\n",
    "    print(\"Wrong data types:\")\n",
    "    for index in range(0, len(inputs)):\n",
    "        if(type(inputs[index]) != int):\n",
    "            print(index + 1)"
   ]
  },
  {
   "cell_type": "code",
   "execution_count": null,
   "id": "4b445453-b740-48df-b359-a03ddff5da9f",
   "metadata": {},
   "outputs": [],
   "source": []
  }
 ],
 "metadata": {
  "kernelspec": {
   "display_name": "Python 3 (ipykernel)",
   "language": "python",
   "name": "python3"
  },
  "language_info": {
   "codemirror_mode": {
    "name": "ipython",
    "version": 3
   },
   "file_extension": ".py",
   "mimetype": "text/x-python",
   "name": "python",
   "nbconvert_exporter": "python",
   "pygments_lexer": "ipython3",
   "version": "3.9.12"
  }
 },
 "nbformat": 4,
 "nbformat_minor": 5
}
